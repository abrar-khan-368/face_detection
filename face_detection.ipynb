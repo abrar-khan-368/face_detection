{
 "cells": [
  {
   "cell_type": "code",
   "execution_count": 1,
   "metadata": {},
   "outputs": [],
   "source": [
    "import numpy as np\n",
    "import cv2"
   ]
  },
  {
   "cell_type": "code",
   "execution_count": 2,
   "metadata": {},
   "outputs": [],
   "source": [
    "model_cfg = \"model/deploy.prototxt.txt\"\n",
    "model_weights = \"model/res10_300x300_ssd_iter_140000.caffemodel\"\n",
    "\n",
    "# read the model\n",
    "detector = cv2.dnn.readNetFromCaffe(model_cfg, model_weights)"
   ]
  },
  {
   "cell_type": "code",
   "execution_count": 4,
   "metadata": {},
   "outputs": [],
   "source": [
    "test_img = \"macron.jpg\"\n",
    "image = cv2.imread(test_img)\n",
    "(h, w) = image.shape[:2]\n",
    "\n",
    "cv2.imshow('Test image', image)\n",
    "cv2.waitKey(0)\n",
    "cv2.destroyAllWindows()\n"
   ]
  },
  {
   "cell_type": "code",
   "execution_count": 5,
   "metadata": {},
   "outputs": [
    {
     "data": {
      "text/plain": [
       "(1, 1, 200, 7)"
      ]
     },
     "execution_count": 5,
     "metadata": {},
     "output_type": "execute_result"
    }
   ],
   "source": [
    "# set the intensity scaling factor; 1 in this case, i.e. original image intensities\n",
    "scalefactor = 1.0\n",
    " \n",
    "# set the new dimensions for image resizing to match the network requirements\n",
    "new_size = (300, 300)\n",
    " \n",
    "# create a blob using OpenCV's DNN functionality and by performing mean subtraction \n",
    "# to normalize the input\n",
    "blob = cv2.dnn.blobFromImage(image, scalefactor, new_size, (127.5, 127.5, 127.5), swapRB=True, crop=False)\n",
    "\n",
    "# set the blob as input to the network\n",
    "detector.setInput(blob)\n",
    "# compute the forward pass - detect faces if any\n",
    "detections = detector.forward()\n",
    "detections.shape"
   ]
  },
  {
   "cell_type": "code",
   "execution_count": 6,
   "metadata": {},
   "outputs": [],
   "source": [
    "detections[0][0][0]\n",
    " \n",
    "# compute the length of the array\n",
    "len(detections[0][0])\n",
    "\n",
    "# set the confidence threshold\n",
    "confidence_threshold = 0.5\n",
    "\n",
    "# loop over the detections\n",
    "for i in range(0, detections.shape[2]):\n",
    "  # extract the confidence (i.e., probability) associated with the prediction\n",
    "  confidence = detections[0, 0, i, 2]\n",
    "  # ignore weak detections\n",
    "  if confidence > confidence_threshold:\n",
    "    # compute the (x, y)-coordinates of the bounding box for the detected object\n",
    "    box = detections[0, 0, i, 3:7] * np.array([w, h, w, h])\n",
    "    (startX, startY, endX, endY) = box.astype(\"int\")\n",
    "    # draw the bounding box of the detected face\n",
    "    cv2.rectangle(image, (startX, startY), (endX, endY), (0, 0, 255), 2)\n",
    "    # print the probability of this detection\n",
    "    text = \"confidence: {:.2f}%\".format(confidence * 100)\n",
    "    y = startY - 10 if startY - 10 > 10 else startY + 10\n",
    "    cv2.putText(image, text, (startX, y), cv2.FONT_HERSHEY_SIMPLEX, 0.45, (0, 0, 255), 2)\n",
    "\n",
    "# show the output image\n",
    "cv2.imshow('Predicated Result',image)\n",
    "cv2.waitKey(0)\n",
    "cv2.destroyAllWindows()"
   ]
  },
  {
   "cell_type": "code",
   "execution_count": null,
   "metadata": {},
   "outputs": [],
   "source": []
  }
 ],
 "metadata": {
  "kernelspec": {
   "display_name": "base",
   "language": "python",
   "name": "python3"
  },
  "language_info": {
   "codemirror_mode": {
    "name": "ipython",
    "version": 3
   },
   "file_extension": ".py",
   "mimetype": "text/x-python",
   "name": "python",
   "nbconvert_exporter": "python",
   "pygments_lexer": "ipython3",
   "version": "3.11.8"
  }
 },
 "nbformat": 4,
 "nbformat_minor": 2
}
